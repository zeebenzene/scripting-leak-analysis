{
 "metadata": {
  "name": "",
  "signature": "sha256:afdb8dcc9d0b7224be321eafcba5a84d7cf26531fbd73b6abe4a5dd755323d9f"
 },
 "nbformat": 3,
 "nbformat_minor": 0,
 "worksheets": [
  {
   "cells": [
    {
     "cell_type": "heading",
     "level": 1,
     "metadata": {},
     "source": [
      "Analyzing The Leaked LOL Data"
     ]
    },
    {
     "cell_type": "markdown",
     "metadata": {},
     "source": [
      "First I save the Players.php file to my disk.  \n",
      "I saved it as .csv but python really doesn't give a shit what you save it as.\n",
      "\n",
      "Then I needed to put the data into a nice dictionary. \n",
      "This takes a little preprocessing, filtering, and splitting.  Not the most elegant code but it works well enough."
     ]
    },
    {
     "cell_type": "code",
     "collapsed": false,
     "input": [
      "%matplotlib inline\n",
      "import numpy as np\n",
      "import matplotlib.pyplot as plt\n",
      "\n",
      "fil = open('Players.csv')\n",
      "lines = fil.readlines()\n",
      "\n",
      "\n",
      "processedlines = []\n",
      "for line in lines:\n",
      "    newline = []\n",
      "    procline = filter(lambda x: x.isalpha() or x.isdigit() or x in \" =>.,\", line[8:])\n",
      "    split1 = procline.split(\",\")\n",
      "    dic  = {}\n",
      "    for elem in split1:\n",
      "        if \" => \" in elem:\n",
      "            split2 = elem.split(\"=>\")\n",
      "            dic[split2[0].strip()] = split2[1].strip()\n",
      "    processedlines.append(dic)"
     ],
     "language": "python",
     "metadata": {},
     "outputs": [],
     "prompt_number": 1
    },
    {
     "cell_type": "heading",
     "level": 2,
     "metadata": {},
     "source": [
      "So let's find out what attributes we have, shall we?"
     ]
    },
    {
     "cell_type": "code",
     "collapsed": false,
     "input": [
      "print(processedlines[1].keys())"
     ],
     "language": "python",
     "metadata": {},
     "outputs": [
      {
       "output_type": "stream",
       "stream": "stdout",
       "text": [
        "['Elo', 'IP', 'region', 'user', 'date', 'counts', 'ID', 'name']\n"
       ]
      }
     ],
     "prompt_number": 2
    },
    {
     "cell_type": "markdown",
     "metadata": {},
     "source": [
      "So we have user ranks, regions, ip addresses, dates joined, site nme, league name etc.\n",
      "Not sure what counts is.  I'll leave that up to you guys.\n",
      "\n",
      "So I'll be taking a look at distributions for Elo (user ranks) and regions.\n",
      "\n",
      "All the other interesting stuff is private information and wouldn't be appropriate to put up here."
     ]
    },
    {
     "cell_type": "heading",
     "level": 2,
     "metadata": {},
     "source": [
      "Finding Distributions"
     ]
    },
    {
     "cell_type": "markdown",
     "metadata": {},
     "source": [
      "Below is a function that will give me a nice little dictionary with counts of each attribute. For example a key would be a region and a value would be the number of people in that region."
     ]
    },
    {
     "cell_type": "code",
     "collapsed": false,
     "input": [
      "regions = {}\n",
      "\n",
      "\n",
      "def getCountOfAttribute(attribute):\n",
      "    counteddic = {}\n",
      "    for dic in processedlines:\n",
      "        if attribute in dic:\n",
      "            if dic[attribute] not in counteddic:\n",
      "                counteddic[dic[attribute]] = 1\n",
      "            else:\n",
      "                counteddic[dic[attribute]] += 1\n",
      "    return counteddic\n",
      "            \n",
      "def prettyPrint(dic):\n",
      "    for key in dic:\n",
      "        print key + \" : \"  + str(dic[key])\n",
      "        \n",
      "def getDictValues(dic):\n",
      "    values = []\n",
      "    keys = sorted(dic.keys())\n",
      "    for key in keys:\n",
      "        values.append(dic[key])\n",
      "    return keys, values\n",
      "\n",
      "def plotDictDistribution(dic, picname):\n",
      "    keys, values= getDictValues(dic)\n",
      "\n",
      "    fig = plt.figure(dpi=400)\n",
      "\n",
      "    width = 1.4\n",
      "    ind = np.arange(len(values))\n",
      "    plt.bar(ind, values)\n",
      "    plt.xticks(ind + width / 2, keys, rotation = 90)\n",
      "    \n",
      "    plt.savefig(picname + \".png\", dpi = 400)\n",
      "    plt.show()"
     ],
     "language": "python",
     "metadata": {},
     "outputs": [],
     "prompt_number": 8
    },
    {
     "cell_type": "heading",
     "level": 3,
     "metadata": {},
     "source": [
      "Let's find out the number of cheaters in each region."
     ]
    },
    {
     "cell_type": "markdown",
     "metadata": {},
     "source": [
      "First let's find out what the different regions are."
     ]
    },
    {
     "cell_type": "code",
     "collapsed": false,
     "input": [
      "regions = getCountOfAttribute('region')\n",
      "print(regions.keys())"
     ],
     "language": "python",
     "metadata": {},
     "outputs": [
      {
       "output_type": "stream",
       "stream": "stdout",
       "text": [
        "['eune', 'euwregionTag', 'na', 'tr', 'us', 'oce', 'QA', 'kr', 'br', 'ru', 'euw', 'unk', 'la1', 'la2']\n"
       ]
      }
     ],
     "prompt_number": 9
    },
    {
     "cell_type": "markdown",
     "metadata": {},
     "source": [
      "This is obviously pretty raw data. I can give a guess as to what each one equals:\n",
      "\n",
      "eune = europe nordic and eastern\n",
      "na = north america\n",
      "tr = turkey\n",
      "oce = oceana\n",
      "kr = korea\n",
      "br = brazil\n",
      "ru = russia\n",
      "euw = western europe\n",
      "unk = unknown\n",
      "la1 = latin america\n",
      "la2 = latin america\n",
      "euwregiontag, us = old db key / noise\n",
      "\n",
      "I'm going to put this into the code to make it more readable."
     ]
    },
    {
     "cell_type": "code",
     "collapsed": false,
     "input": [
      "regionTranslations = {\n",
      "    'eune':\"Nordic and Eastern Europe\",\n",
      "    'us':'North America',\n",
      "    'na':'North America',\n",
      "    'tr':'Turkey',\n",
      "    'oce':'Oceana',\n",
      "    'kr':'Korea',\n",
      "    'br':'Brazil',\n",
      "    'ru':'Russia',\n",
      "    'euw':'Western Europe',\n",
      "    'euwregionTag':'Western Europe',\n",
      "    'unk':'unknown',\n",
      "    'QA':'unknown',\n",
      "    'la1':'Latin America',\n",
      "    'la2':'Latin America'\n",
      "}\n",
      "\n",
      "newRegions = {}\n",
      "for region in regions:\n",
      "    transRegionName = regionTranslations[region]\n",
      "    if transRegionName in newRegions:\n",
      "        newRegions[transRegionName] += regions[region]\n",
      "    else:\n",
      "        newRegions[transRegionName] = regions[region]"
     ],
     "language": "python",
     "metadata": {},
     "outputs": [],
     "prompt_number": 10
    },
    {
     "cell_type": "code",
     "collapsed": false,
     "input": [
      "prettyPrint(newRegions)"
     ],
     "language": "python",
     "metadata": {},
     "outputs": [
      {
       "output_type": "stream",
       "stream": "stdout",
       "text": [
        "Turkey : 3122\n",
        "Brazil : 3793\n",
        "Korea : 4211\n",
        "unknown : 28694\n",
        "North America : 28359\n",
        "Oceana : 2507\n",
        "Western Europe : 35224\n",
        "Nordic and Eastern Europe : 21938\n",
        "Russia : 1428\n",
        "Latin America : 1902\n"
       ]
      }
     ],
     "prompt_number": 11
    },
    {
     "cell_type": "code",
     "collapsed": false,
     "input": [
      "plotDictDistribution(newRegions, \"regions\")"
     ],
     "language": "python",
     "metadata": {},
     "outputs": [
      {
       "metadata": {},
       "output_type": "display_data",
       "png": "[encoded data removed]",
       "text": [
        "<matplotlib.figure.Figure at 0x1aa23710>"
       ]
      }
     ],
     "prompt_number": 12
    },
    {
     "cell_type": "heading",
     "level": 2,
     "metadata": {},
     "source": [
      "Now let's find out what rank the cheaters are..."
     ]
    },
    {
     "cell_type": "code",
     "collapsed": false,
     "input": [
      "elo = getCountOfAttribute('Elo')\n",
      "print(elo.keys())\n",
      "# prettyPrint(elo)"
     ],
     "language": "python",
     "metadata": {},
     "outputs": [
      {
       "output_type": "stream",
       "stream": "stdout",
       "text": [
        "['Gold IV', 'Diamond II', 'Gold III', 'Diamond IV', 'Gold II', 'Platinum II', 'Diamond I', '1543', 'Silver IV', 'Bronze III', 'Silver II', '0', 'Challenger I', '1204', 'Platinum III', 'Platinum IV', 'Gold V', '1230', 'Bronze V', '1132', '1337', 'No Rating', 'Bronze I', 'Gold I', 'Diamond V', 'Diamond III', 'Platinum I', 'Bronze IV', 'Silver V', 'Silver I', 'Bronze II', 'Platinum V', 'Silver III', 'Seeding']\n"
       ]
      }
     ],
     "prompt_number": 13
    },
    {
     "cell_type": "markdown",
     "metadata": {},
     "source": [
      "These are obviously much better keys, but some of them still need to be pruned.  I'm going to do this by simply filtering out all of the ones that don't have letters in them."
     ]
    },
    {
     "cell_type": "code",
     "collapsed": false,
     "input": [
      "relevantEloKeys = sorted(filter(lambda x: any(c.isalpha() for c in x), elo.keys()))\n",
      "print(relevantEloKeys)"
     ],
     "language": "python",
     "metadata": {},
     "outputs": [
      {
       "output_type": "stream",
       "stream": "stdout",
       "text": [
        "['Bronze I', 'Bronze II', 'Bronze III', 'Bronze IV', 'Bronze V', 'Challenger I', 'Diamond I', 'Diamond II', 'Diamond III', 'Diamond IV', 'Diamond V', 'Gold I', 'Gold II', 'Gold III', 'Gold IV', 'Gold V', 'No Rating', 'Platinum I', 'Platinum II', 'Platinum III', 'Platinum IV', 'Platinum V', 'Seeding', 'Silver I', 'Silver II', 'Silver III', 'Silver IV', 'Silver V']\n"
       ]
      }
     ],
     "prompt_number": 14
    },
    {
     "cell_type": "heading",
     "level": 3,
     "metadata": {},
     "source": [
      "Much better!  Now for some counts!"
     ]
    },
    {
     "cell_type": "code",
     "collapsed": false,
     "input": [
      "newElo = {}\n",
      "for key in relevantEloKeys:\n",
      "    newElo[key] = elo[key]\n",
      "prettyPrint(newElo)"
     ],
     "language": "python",
     "metadata": {},
     "outputs": [
      {
       "output_type": "stream",
       "stream": "stdout",
       "text": [
        "Gold IV : 150\n",
        "Diamond II : 3\n",
        "Gold III : 143\n",
        "Diamond IV : 14\n",
        "Gold II : 122\n",
        "Platinum II : 27\n",
        "Diamond I : 15\n",
        "Bronze III : 377\n",
        "Silver II : 434\n",
        "Silver IV : 523\n",
        "Challenger I : 1\n",
        "Diamond V : 45\n",
        "Platinum IV : 52\n",
        "Gold V : 399\n",
        "Bronze V : 282\n",
        "No Rating : 5831\n",
        "Bronze I : 448\n",
        "Gold I : 162\n",
        "Platinum III : 41\n",
        "Diamond III : 12\n",
        "Platinum I : 39\n",
        "Bronze IV : 351\n",
        "Silver V : 700\n",
        "Silver I : 543\n",
        "Bronze II : 362\n",
        "Platinum V : 149\n",
        "Silver III : 512\n",
        "Seeding : 1021\n"
       ]
      }
     ],
     "prompt_number": 15
    },
    {
     "cell_type": "code",
     "collapsed": false,
     "input": [
      "plotDictDistribution(newElo, \"elo\")"
     ],
     "language": "python",
     "metadata": {},
     "outputs": [
      {
       "metadata": {},
       "output_type": "display_data",
       "png": "[encoded data removed]",
       "text": [
        "<matplotlib.figure.Figure at 0x1ab1d470>"
       ]
      }
     ],
     "prompt_number": 16
    }
   ],
   "metadata": {}
  }
 ]
}